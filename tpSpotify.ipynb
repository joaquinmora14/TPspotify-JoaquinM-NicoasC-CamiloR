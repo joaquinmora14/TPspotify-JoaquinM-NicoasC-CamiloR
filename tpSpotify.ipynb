{
 "cells": [
  {
   "cell_type": "code",
   "execution_count": null,
   "metadata": {},
   "outputs": [],
   "source": []
  },
  {
   "cell_type": "code",
   "execution_count": 1,
   "metadata": {},
   "outputs": [],
   "source": [
    "try:\n",
    "    import pandas as pd\n",
    "except ImportError:\n",
    "    print(\"Pandas not installed\")\n",
    "    %pip install pandas --user\n",
    "\n",
    "\n",
    "try:\n",
    "    import matplotlib.pyplot as plt\n",
    "except ImportError:\n",
    "    print(\"Matplotlib not installed\")\n",
    "    %pip install matplotlib --user\n",
    "\n",
    "\n",
    "import ssl\n",
    "\n",
    "\n",
    "ssl._create_default_https_context = ssl._create_unverified_context\n"
   ]
  },
  {
   "cell_type": "code",
   "execution_count": null,
   "metadata": {},
   "outputs": [
    {
     "name": "stderr",
     "output_type": "stream",
     "text": [
      "C:\\Users\\49550528\\AppData\\Local\\Temp\\ipykernel_4540\\3952637302.py:1: DtypeWarning: Columns (16) have mixed types. Specify dtype option on import or set low_memory=False.\n",
      "  archivo = pd.read_csv('https://raw.githubusercontent.com/IgnacioPardo/Tecnologias_Exponenciales_2025/refs/heads/main/StreamingHistory_Extended.csv')\n"
     ]
    },
    {
     "name": "stdout",
     "output_type": "stream",
     "text": [
      "                     ts     username               platform  ms_played  \\\n",
      "0  2020-12-06T02:51:11Z  11145402699  iOS 14.2 (iPhone12,3)     145610   \n",
      "1  2020-12-06T02:53:31Z  11145402699  iOS 14.2 (iPhone12,3)     138692   \n",
      "2  2020-12-06T02:53:53Z  11145402699  iOS 14.2 (iPhone12,3)      22662   \n",
      "3  2020-12-06T02:53:56Z  11145402699  iOS 14.2 (iPhone12,3)       2716   \n",
      "4  2020-12-06T02:53:57Z  11145402699  iOS 14.2 (iPhone12,3)        116   \n",
      "\n",
      "  conn_country user_agent_decrypted   master_metadata_track_name  \\\n",
      "0           AR              unknown   Hey Jude - Remastered 2015   \n",
      "1           AR              unknown              Hacer un puente   \n",
      "2           AR              unknown  Happy Together - Remastered   \n",
      "3           AR              unknown                       Demons   \n",
      "4           AR              unknown              Paint It, Black   \n",
      "\n",
      "  master_metadata_album_artist_name master_metadata_album_album_name  \\\n",
      "0                       The Beatles                                1   \n",
      "1                        La Franela                  Hacer Un Puente   \n",
      "2                       The Turtles                  All the Singles   \n",
      "3                   Imagine Dragons                    Night Visions   \n",
      "4                The Rolling Stones                        Aftermath   \n",
      "\n",
      "                      spotify_track_uri episode_name episode_show_name  \\\n",
      "0  spotify:track:0aym2LBJBk9DAYuHHutrIl          NaN               NaN   \n",
      "1  spotify:track:18Q3WTfyWX1tdS1cp42NhA          NaN               NaN   \n",
      "2  spotify:track:2admbUc576sC6M0QeUkg2C          NaN               NaN   \n",
      "3  spotify:track:5qaEfEh1AtSdrdrByCP7qR          NaN               NaN   \n",
      "4  spotify:track:63T7DJ1AFDD6Bn8VzG6JE8          NaN               NaN   \n",
      "\n",
      "  spotify_episode_uri reason_start reason_end  shuffle skipped  offline  \\\n",
      "0                 NaN    trackdone     fwdbtn     True     NaN    False   \n",
      "1                 NaN       fwdbtn     fwdbtn     True     NaN    False   \n",
      "2                 NaN       fwdbtn     fwdbtn     True     NaN    False   \n",
      "3                 NaN       fwdbtn     fwdbtn     True     NaN    False   \n",
      "4                 NaN       fwdbtn     fwdbtn     True     NaN    False   \n",
      "\n",
      "   offline_timestamp  is_podcast  \n",
      "0      1607222710755       False  \n",
      "1      1607223071185       False  \n",
      "2      1607223210387       False  \n",
      "3      1607223233165       False  \n",
      "4      1607223236453       False  \n",
      "<class 'pandas.core.frame.DataFrame'>\n",
      "RangeIndex: 125349 entries, 0 to 125348\n",
      "Data columns (total 20 columns):\n",
      " #   Column                             Non-Null Count   Dtype \n",
      "---  ------                             --------------   ----- \n",
      " 0   ts                                 125349 non-null  object\n",
      " 1   username                           125349 non-null  int64 \n",
      " 2   platform                           125349 non-null  object\n",
      " 3   ms_played                          125349 non-null  int64 \n",
      " 4   conn_country                       125349 non-null  object\n",
      " 5   user_agent_decrypted               104897 non-null  object\n",
      " 6   master_metadata_track_name         123953 non-null  object\n",
      " 7   master_metadata_album_artist_name  123953 non-null  object\n",
      " 8   master_metadata_album_album_name   123953 non-null  object\n",
      " 9   spotify_track_uri                  123953 non-null  object\n",
      " 10  episode_name                       168 non-null     object\n",
      " 11  episode_show_name                  168 non-null     object\n",
      " 12  spotify_episode_uri                168 non-null     object\n",
      " 13  reason_start                       125344 non-null  object\n",
      " 14  reason_end                         105739 non-null  object\n",
      " 15  shuffle                            125349 non-null  bool  \n",
      " 16  skipped                            16354 non-null   object\n",
      " 17  offline                            125349 non-null  bool  \n",
      " 18  offline_timestamp                  125349 non-null  int64 \n",
      " 19  is_podcast                         125349 non-null  bool  \n",
      "dtypes: bool(3), int64(3), object(14)\n",
      "memory usage: 16.6+ MB\n",
      "None\n"
     ]
    }
   ],
   "source": [
    "\n",
    "archivo = pd.read_csv('https://raw.githubusercontent.com/IgnacioPardo/Tecnologias_Exponenciales_2025/refs/heads/main/StreamingHistory_Extended.csv')\n"
   ]
  },
  {
   "cell_type": "code",
   "execution_count": null,
   "metadata": {},
   "outputs": [],
   "source": [
    "Muestra el historial de reproducciones en Spotify. Incluye fecha y hora de finalización de cada reproducción (endTime), nombres de artistas  (artistName), nombres de canciones (trackName) y cuanto dura la reproduccion (msPlayed)\n"
   ]
  },
  {
   "cell_type": "code",
   "execution_count": null,
   "metadata": {},
   "outputs": [
    {
     "name": "stdout",
     "output_type": "stream",
     "text": [
      "\n",
      "Reproducciones registradas desde: 2014-06-27 hasta: 2024-05-23\n"
     ]
    }
   ],
   "source": [
    "archivo['ts'] = pd.to_datetime(archivo['ts']) \n",
    " # Lo que estoy haciendo es convertir el ts a un formato de fechas y horas\n",
    "fecha_inicio = archivo['ts'].min()\n",
    "fecha_fin = archivo['ts'].max()\n",
    "print(f\"\\nreproducciones registradas desde: {fecha_inicio.date()} hasta: {fecha_fin.date()}\")\n"
   ]
  },
  {
   "cell_type": "markdown",
   "metadata": {},
   "source": []
  },
  {
   "cell_type": "code",
   "execution_count": 14,
   "metadata": {},
   "outputs": [
    {
     "name": "stdout",
     "output_type": "stream",
     "text": [
      "\n",
      "total de canciones diferentes escuchadas: 9708\n"
     ]
    }
   ],
   "source": [
    "canciones_unicas = archivo['master_metadata_track_name'].nunique()\n",
    "#master metadate track name es lo que engloba todas las canciones escuchadas, entonces lo que estoy haciendo es al dare el nunique, que cuenta el numero de valores, los printea.\n",
    "print(f\"\\ntotal de canciones diferentes escuchadas: {canciones_unicas}\")\n"
   ]
  },
  {
   "cell_type": "code",
   "execution_count": null,
   "metadata": {},
   "outputs": [
    {
     "name": "stdout",
     "output_type": "stream",
     "text": [
      "\n",
      "Duración total de reproducciones: 3495.52 horas\n"
     ]
    }
   ],
   "source": [
    "\n",
    "#ms_played ya esta en el documento como milisegundos de reproduccion, y lo que hago aca es pasarlo a horas y luego printearlo con la funcion de la duracion de horas.\n",
    "duracion_total_ms = archivo['ms_played'].sum()\n",
    "duracion_total_horas = duracion_total_ms / (1000 * 60 * 60)\n",
    "print(f\"\\nduracion total de reproducciones: {duracion_total_horas:.2f} horas\")\n"
   ]
  },
  {
   "cell_type": "code",
   "execution_count": null,
   "metadata": {},
   "outputs": [
    {
     "name": "stdout",
     "output_type": "stream",
     "text": [
      "\n",
      "artista más escuchado: Charly García\n"
     ]
    }
   ],
   "source": [
    "#lo que estoy haciendo es calcular la cantidad de tiempo escuchada por cada artista y ahi ver cual es el que mas tiene con el sum, que calcula la suma.\n",
    "artista_mas_escuchado = archivo.groupby('master_metadata_album_artist_name')['ms_played'].sum().idxmax()\n",
    "print(f\"\\nartista más escuchado: {artista_mas_escuchado}\")\n"
   ]
  },
  {
   "cell_type": "code",
   "execution_count": null,
   "metadata": {},
   "outputs": [],
   "source": [
    "#aca estoy haciendo lo mismo que en el anterior punto pero con la cancion en vez de el artista, usando casi el mismo codigo\n",
    "cancion_mas_escuchada = archivo.groupby(['trackName', 'artistName'])['msPlayed'].sum().idxmax()\n",
    "print(\"cancion mas escuchada:\", cancion_mas_escuchada)\n"
   ]
  }
 ],
 "metadata": {
  "kernelspec": {
   "display_name": "base",
   "language": "python",
   "name": "python3"
  },
  "language_info": {
   "codemirror_mode": {
    "name": "ipython",
    "version": 3
   },
   "file_extension": ".py",
   "mimetype": "text/x-python",
   "name": "python",
   "nbconvert_exporter": "python",
   "pygments_lexer": "ipython3",
   "version": "3.12.7"
  }
 },
 "nbformat": 4,
 "nbformat_minor": 2
}
